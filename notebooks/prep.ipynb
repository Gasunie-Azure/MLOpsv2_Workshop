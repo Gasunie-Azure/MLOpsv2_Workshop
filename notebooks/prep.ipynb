{
  "cells": [
    {
      "cell_type": "code",
      "execution_count": 1,
      "metadata": {
        "gather": {
          "logged": 1675838895056
        },
        "jupyter": {
          "outputs_hidden": false,
          "source_hidden": false
        },
        "nteract": {
          "transient": {
            "deleting": false
          }
        }
      },
      "outputs": [],
      "source": [
        "import argparse\n",
        "\n",
        "from pathlib import Path\n",
        "import os\n",
        "import numpy as np\n",
        "import pandas as pd\n",
        "\n",
        "import mlflow"
      ]
    },
    {
      "cell_type": "code",
      "execution_count": 2,
      "metadata": {
        "gather": {
          "logged": 1675838895313
        }
      },
      "outputs": [],
      "source": [
        "TARGET_COL = \"cost\"\n",
        "\n",
        "NUMERIC_COLS = [\n",
        "    \"distance\", \"dropoff_latitude\", \"dropoff_longitude\", \"passengers\", \"pickup_latitude\",\n",
        "    \"pickup_longitude\", \"pickup_weekday\", \"pickup_month\", \"pickup_monthday\", \"pickup_hour\",\n",
        "    \"pickup_minute\", \"pickup_second\", \"dropoff_weekday\", \"dropoff_month\", \"dropoff_monthday\",\n",
        "    \"dropoff_hour\", \"dropoff_minute\", \"dropoff_second\"\n",
        "]\n",
        "\n",
        "CAT_NOM_COLS = [\n",
        "    \"store_forward\", \"vendor\"\n",
        "]\n",
        "\n",
        "CAT_ORD_COLS = [\n",
        "]"
      ]
    },
    {
      "cell_type": "code",
      "execution_count": 3,
      "metadata": {
        "gather": {
          "logged": 1675838895485
        },
        "jupyter": {
          "outputs_hidden": false,
          "source_hidden": false
        },
        "nteract": {
          "transient": {
            "deleting": false
          }
        }
      },
      "outputs": [],
      "source": [
        "# Define Arguments for this step\n",
        "\n",
        "class MyArgs:\n",
        "    def __init__(self, **kwargs):\n",
        "        self.__dict__.update(kwargs)\n",
        "\n",
        "args = MyArgs(\n",
        "            raw_data = \"../data/taxi-data.csv\", \n",
        "            train_data = \"/tmp/prep/train\",\n",
        "            val_data = \"/tmp/prep/val\",\n",
        "            test_data = \"/tmp/prep/test\",\n",
        "            )\n",
        "\n",
        "os.makedirs(args.train_data, exist_ok = True)\n",
        "os.makedirs(args.val_data, exist_ok = True)\n",
        "os.makedirs(args.test_data, exist_ok = True)\n"
      ]
    },
    {
      "cell_type": "code",
      "execution_count": 4,
      "metadata": {
        "gather": {
          "logged": 1675838895644
        }
      },
      "outputs": [],
      "source": [
        "\n",
        "def main(args):\n",
        "    '''Read, split, and save datasets'''\n",
        "\n",
        "    # ------------ Reading Data ------------ #\n",
        "    # -------------------------------------- #\n",
        "    data = pd.read_csv((Path(args.raw_data)))\n",
        "    data = data[NUMERIC_COLS + CAT_NOM_COLS + CAT_ORD_COLS + [TARGET_COL]]\n",
        "\n",
        "    # ------------- Split Data ------------- #\n",
        "    # -------------------------------------- #\n",
        "\n",
        "    # Split data into train, val and test datasets\n",
        "\n",
        "    random_data = np.random.rand(len(data))\n",
        "\n",
        "    msk_train = random_data < 0.7\n",
        "    msk_val = (random_data >= 0.7) & (random_data < 0.85)\n",
        "    msk_test = random_data >= 0.85\n",
        "\n",
        "    train = data[msk_train]\n",
        "    val = data[msk_val]\n",
        "    test = data[msk_test]\n",
        "\n",
        "    mlflow.log_metric('train size', train.shape[0])\n",
        "    mlflow.log_metric('val size', val.shape[0])\n",
        "    mlflow.log_metric('test size', test.shape[0])\n",
        "\n",
        "    train.to_parquet((Path(args.train_data) / \"train.parquet\"))\n",
        "    val.to_parquet((Path(args.val_data) / \"val.parquet\"))\n",
        "    test.to_parquet((Path(args.test_data) / \"test.parquet\"))\n"
      ]
    },
    {
      "cell_type": "code",
      "execution_count": 7,
      "metadata": {
        "gather": {
          "logged": 1675838899063
        },
        "jupyter": {
          "outputs_hidden": false,
          "source_hidden": false
        },
        "nteract": {
          "transient": {
            "deleting": false
          }
        }
      },
      "outputs": [
        {
          "name": "stderr",
          "output_type": "stream",
          "text": [
            "2025/07/08 13:52:29 INFO mlflow.tracking.fluent: Experiment with name 'heena-test' does not exist. Creating a new experiment.\n"
          ]
        },
        {
          "name": "stdout",
          "output_type": "stream",
          "text": [
            "Raw data path: ../data/taxi-data.csv\n",
            "Train dataset output path: /tmp/prep/train\n",
            "Val dataset output path: /tmp/prep/val\n",
            "Test dataset path: /tmp/prep/test\n",
            "artifact uri: file:///c:/Users/heenarefai/Documents/code/mlops-v2-workshop/notebooks/mlruns/775451619847611530/a4f3a432bc5e446ead3e082fdebe48e1/artifacts\n"
          ]
        }
      ],
      "source": [
        "lines = [\n",
        "    f\"Raw data path: {args.raw_data}\",\n",
        "    f\"Train dataset output path: {args.train_data}\",\n",
        "    f\"Val dataset output path: {args.val_data}\",\n",
        "    f\"Test dataset path: {args.test_data}\",\n",
        "]\n",
        "\n",
        "for line in lines:\n",
        "    print(line)\n",
        "\n",
        "### !!!! TODO !! Replace ith your name `my-experiment-john`\n",
        "mlflow.set_experiment(\"heena-test\")\n",
        "with mlflow.start_run(run_name=\"prep-nyc\"):\n",
        "  print('artifact uri:', mlflow.get_artifact_uri())  \n",
        "  main(args)\n",
        "\n",
        "mlflow.end_run()"
      ]
    },
    {
      "cell_type": "code",
      "execution_count": 8,
      "metadata": {
        "gather": {
          "logged": 1675838899221
        },
        "jupyter": {
          "outputs_hidden": false,
          "source_hidden": false
        },
        "nteract": {
          "transient": {
            "deleting": false
          }
        },
        "vscode": {
          "languageId": "shellscript"
        }
      },
      "outputs": [
        {
          "name": "stdout",
          "output_type": "stream",
          "text": [
            " Volume in drive C has no label.\n",
            " Volume Serial Number is DC19-76FD\n",
            "\n",
            " Directory of c:\\tmp\\prep\\train\n",
            "\n",
            "08/07/2025  13:50    <DIR>          .\n",
            "08/07/2025  13:50    <DIR>          ..\n",
            "08/07/2025  13:52           275.307 train.parquet\n",
            "               1 File(s)        275.307 bytes\n",
            "               2 Dir(s)  774.390.288.384 bytes free\n"
          ]
        }
      ],
      "source": [
        "ls \"/tmp/prep/train\" "
      ]
    },
    {
      "cell_type": "code",
      "execution_count": null,
      "metadata": {
        "vscode": {
          "languageId": "shellscript"
        }
      },
      "outputs": [],
      "source": []
    }
  ],
  "metadata": {
    "kernel_info": {
      "name": "python38-azureml"
    },
    "kernelspec": {
      "display_name": "mlops",
      "language": "python",
      "name": "python3"
    },
    "language_info": {
      "codemirror_mode": {
        "name": "ipython",
        "version": 3
      },
      "file_extension": ".py",
      "mimetype": "text/x-python",
      "name": "python",
      "nbconvert_exporter": "python",
      "pygments_lexer": "ipython3",
      "version": "3.13.5"
    },
    "microsoft": {
      "host": {
        "AzureML": {
          "notebookHasBeenCompleted": true
        }
      }
    },
    "nteract": {
      "version": "nteract-front-end@1.0.0"
    }
  },
  "nbformat": 4,
  "nbformat_minor": 0
}
