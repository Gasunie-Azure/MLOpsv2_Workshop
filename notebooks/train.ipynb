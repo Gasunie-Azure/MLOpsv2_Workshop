{
  "cells": [
    {
      "cell_type": "code",
      "execution_count": 5,
      "metadata": {
        "gather": {
          "logged": 1675839133096
        }
      },
      "outputs": [],
      "source": [
        "import argparse\n",
        "import os\n",
        "\n",
        "from pathlib import Path\n",
        "\n",
        "import numpy as np\n",
        "import pandas as pd\n",
        "from matplotlib import pyplot as plt\n",
        "\n",
        "from sklearn.ensemble import RandomForestRegressor\n",
        "from sklearn.metrics import r2_score, mean_absolute_error, mean_squared_error\n",
        "\n",
        "import mlflow\n",
        "import mlflow.sklearn"
      ]
    },
    {
      "cell_type": "code",
      "execution_count": 6,
      "metadata": {
        "gather": {
          "logged": 1675839133273
        },
        "jupyter": {
          "outputs_hidden": false,
          "source_hidden": false
        },
        "nteract": {
          "transient": {
            "deleting": false
          }
        }
      },
      "outputs": [],
      "source": [
        "TARGET_COL = \"cost\"\n",
        "\n",
        "NUMERIC_COLS = [\n",
        "    \"distance\", \"dropoff_latitude\", \"dropoff_longitude\", \"passengers\", \"pickup_latitude\",\n",
        "    \"pickup_longitude\", \"pickup_weekday\", \"pickup_month\", \"pickup_monthday\", \"pickup_hour\",\n",
        "    \"pickup_minute\", \"pickup_second\", \"dropoff_weekday\", \"dropoff_month\", \"dropoff_monthday\",\n",
        "    \"dropoff_hour\", \"dropoff_minute\", \"dropoff_second\"\n",
        "]\n",
        "\n",
        "CAT_NOM_COLS = [\n",
        "    \"store_forward\", \"vendor\"\n",
        "]\n",
        "\n",
        "CAT_ORD_COLS = [\n",
        "]"
      ]
    },
    {
      "cell_type": "code",
      "execution_count": 13,
      "metadata": {
        "gather": {
          "logged": 1675839133433
        },
        "jupyter": {
          "outputs_hidden": false,
          "source_hidden": false
        },
        "nteract": {
          "transient": {
            "deleting": false
          }
        }
      },
      "outputs": [],
      "source": [
        "# Define Arguments for this step\n",
        "\n",
        "class MyArgs:\n",
        "    def __init__(self, **kwargs):\n",
        "        self.__dict__.update(kwargs)\n",
        "\n",
        "args = MyArgs(\n",
        "                train_data = \"/tmp/prep/train\",\n",
        "                model_output = \"/tmp/train\",\n",
        "                regressor__n_estimators = 500,\n",
        "                regressor__bootstrap = True,\n",
        "                regressor__max_depth = 10,\n",
        "                regressor__max_features = \"sqrt\", \n",
        "                regressor__min_samples_leaf = 4,\n",
        "                regressor__min_samples_split = 5\n",
        "                )\n",
        "\n",
        "os.makedirs(args.model_output, exist_ok = True)"
      ]
    },
    {
      "cell_type": "code",
      "execution_count": 14,
      "metadata": {
        "gather": {
          "logged": 1675839133743
        },
        "jupyter": {
          "outputs_hidden": false,
          "source_hidden": false
        },
        "nteract": {
          "transient": {
            "deleting": false
          }
        }
      },
      "outputs": [],
      "source": [
        "\n",
        "def main(args):\n",
        "    '''Read train dataset, train model, save trained model'''\n",
        "\n",
        "    # Read train data\n",
        "    train_data = pd.read_parquet(Path(args.train_data) / \"train.parquet\" )\n",
        "\n",
        "    # Split the data into input(X) and output(y)\n",
        "    y_train = train_data[TARGET_COL]\n",
        "    X_train = train_data[NUMERIC_COLS + CAT_NOM_COLS + CAT_ORD_COLS]\n",
        "\n",
        "    # Train a Random Forest Regression Model with the training set\n",
        "    model = RandomForestRegressor(n_estimators = args.regressor__n_estimators,\n",
        "                                  bootstrap = args.regressor__bootstrap,\n",
        "                                  max_depth = args.regressor__max_depth,\n",
        "                                  max_features = args.regressor__max_features,\n",
        "                                  min_samples_leaf = args.regressor__min_samples_leaf,\n",
        "                                  min_samples_split = args.regressor__min_samples_split,\n",
        "                                  random_state=0)\n",
        "\n",
        "    # log model hyperparameters\n",
        "    mlflow.log_param(\"model\", \"RandomForestRegressor\")\n",
        "    mlflow.log_param(\"n_estimators\", args.regressor__n_estimators)\n",
        "    mlflow.log_param(\"bootstrap\", args.regressor__bootstrap)\n",
        "    mlflow.log_param(\"max_depth\", args.regressor__max_depth)\n",
        "    mlflow.log_param(\"max_features\", args.regressor__max_features)\n",
        "    mlflow.log_param(\"min_samples_leaf\", args.regressor__min_samples_leaf)\n",
        "    mlflow.log_param(\"min_samples_split\", args.regressor__min_samples_split)\n",
        "\n",
        "    # Train model with the train set\n",
        "    model.fit(X_train, y_train)\n",
        "\n",
        "    # Predict using the Regression Model\n",
        "    yhat_train = model.predict(X_train)\n",
        "\n",
        "    # Evaluate Regression performance with the train set\n",
        "    r2 = r2_score(y_train, yhat_train)\n",
        "    mse = mean_squared_error(y_train, yhat_train)\n",
        "    rmse = np.sqrt(mse)\n",
        "    mae = mean_absolute_error(y_train, yhat_train)\n",
        "    \n",
        "    # log model performance metrics\n",
        "    mlflow.log_metric(\"train r2\", r2)\n",
        "    mlflow.log_metric(\"train mse\", mse)\n",
        "    mlflow.log_metric(\"train rmse\", rmse)\n",
        "    mlflow.log_metric(\"train mae\", mae)\n",
        "\n",
        "    # Visualize results\n",
        "    plt.scatter(y_train, yhat_train,  color='black')\n",
        "    plt.plot(y_train, y_train, color='blue', linewidth=3)\n",
        "    plt.xlabel(\"Real value\")\n",
        "    plt.ylabel(\"Predicted value\")\n",
        "    plt.savefig(\"regression_results.png\")\n",
        "    mlflow.log_artifact(\"regression_results.png\")\n",
        "\n",
        "    # Save the model\n",
        "    mlflow.sklearn.save_model(sk_model=model, path=args.model_output)\n"
      ]
    },
    {
      "cell_type": "code",
      "execution_count": 15,
      "metadata": {
        "gather": {
          "logged": 1675840287180
        },
        "jupyter": {
          "outputs_hidden": false,
          "source_hidden": false
        },
        "nteract": {
          "transient": {
            "deleting": false
          }
        }
      },
      "outputs": [
        {
          "name": "stdout",
          "output_type": "stream",
          "text": [
            "Train dataset input path: /tmp/prep/train\n",
            "Model output path: /tmp/train\n",
            "n_estimators: 500\n",
            "bootstrap: True\n",
            "max_depth: 10\n",
            "max_features: sqrt\n",
            "min_samples_leaf: 4\n",
            "min_samples_split: 5\n",
            "artifact uri: file:///c:/Users/heenarefai/Documents/code/mlops-v2-workshop/notebooks/mlruns/775451619847611530/f3f7c14a043349d3876a473058bb82cc/artifacts\n"
          ]
        },
        {
          "data": {
            "image/png": "[encoded data removed]",
            "text/plain": [
              "<Figure size 640x480 with 1 Axes>"
            ]
          },
          "metadata": {},
          "output_type": "display_data"
        }
      ],
      "source": [
        "\n",
        "lines = [\n",
        "    f\"Train dataset input path: {args.train_data}\",\n",
        "    f\"Model output path: {args.model_output}\",\n",
        "    f\"n_estimators: {args.regressor__n_estimators}\",\n",
        "    f\"bootstrap: {args.regressor__bootstrap}\",\n",
        "    f\"max_depth: {args.regressor__max_depth}\",\n",
        "    f\"max_features: {args.regressor__max_features}\",\n",
        "    f\"min_samples_leaf: {args.regressor__min_samples_leaf}\",\n",
        "    f\"min_samples_split: {args.regressor__min_samples_split}\"\n",
        "]\n",
        "\n",
        "for line in lines:\n",
        "    print(line)\n",
        "\n",
        "### !!!! TODO !! Replace ith your name `my-experiment-john`\n",
        "mlflow.set_experiment(\"heena-test\")\n",
        "with mlflow.start_run(run_name=\"train-nyc\"):\n",
        "  print('artifact uri:', mlflow.get_artifact_uri())  \n",
        "  main(args)\n",
        "\n",
        "mlflow.end_run()"
      ]
    },
    {
      "cell_type": "code",
      "execution_count": 16,
      "metadata": {
        "gather": {
          "logged": 1675840357180
        }
      },
      "outputs": [
        {
          "name": "stdout",
          "output_type": "stream",
          "text": [
            " Volume in drive C has no label.\n",
            " Volume Serial Number is DC19-76FD\n",
            "\n",
            " Directory of c:\\tmp\\train\n",
            "\n",
            "08/07/2025  13:59    <DIR>          .\n",
            "08/07/2025  13:54    <DIR>          ..\n",
            "08/07/2025  13:59               206 conda.yaml\n",
            "08/07/2025  13:59               501 MLmodel\n",
            "08/07/2025  13:59        12.948.528 model.pkl\n",
            "08/07/2025  13:59               113 python_env.yaml\n",
            "08/07/2025  13:59                81 requirements.txt\n",
            "               5 File(s)     12.949.429 bytes\n",
            "               2 Dir(s)  774.338.412.544 bytes free\n"
          ]
        }
      ],
      "source": [
        "ls \"/tmp/train\" "
      ]
    },
    {
      "cell_type": "code",
      "execution_count": null,
      "metadata": {},
      "outputs": [],
      "source": []
    }
  ],
  "metadata": {
    "kernel_info": {
      "name": "python38-azureml"
    },
    "kernelspec": {
      "display_name": "mlops",
      "language": "python",
      "name": "python3"
    },
    "language_info": {
      "codemirror_mode": {
        "name": "ipython",
        "version": 3
      },
      "file_extension": ".py",
      "mimetype": "text/x-python",
      "name": "python",
      "nbconvert_exporter": "python",
      "pygments_lexer": "ipython3",
      "version": "3.13.5"
    },
    "microsoft": {
      "host": {
        "AzureML": {
          "notebookHasBeenCompleted": true
        }
      }
    },
    "nteract": {
      "version": "nteract-front-end@1.0.0"
    }
  },
  "nbformat": 4,
  "nbformat_minor": 0
}
